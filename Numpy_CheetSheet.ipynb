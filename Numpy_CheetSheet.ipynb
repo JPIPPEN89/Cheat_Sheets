{
 "cells": [
  {
   "cell_type": "code",
   "execution_count": 1,
   "id": "1ce440c3-de2e-408e-b581-ad13278fe21e",
   "metadata": {},
   "outputs": [],
   "source": [
    "import numpy as np\n"
   ]
  },
  {
   "cell_type": "code",
   "execution_count": 2,
   "id": "0e3dd4cb-7494-4de7-b9f2-721b95457d15",
   "metadata": {},
   "outputs": [
    {
     "name": "stdout",
     "output_type": "stream",
     "text": [
      "[[1 2]\n",
      " [3 4]]\n"
     ]
    }
   ],
   "source": [
    "a = np.array([[1,2], [3,4]])\n",
    "print(a)"
   ]
  },
  {
   "cell_type": "code",
   "execution_count": 3,
   "id": "c5174a17-77bd-40d3-ad09-510c2f181004",
   "metadata": {},
   "outputs": [
    {
     "name": "stdout",
     "output_type": "stream",
     "text": [
      "[[ 3  7  8]\n",
      " [10  4  5]]\n"
     ]
    }
   ],
   "source": [
    "b = np.array([[3,7, 8], [10, 4, 5]])\n",
    "print(b)"
   ]
  },
  {
   "cell_type": "code",
   "execution_count": 7,
   "id": "5234648a-44c3-423f-afb1-f143c3fa377a",
   "metadata": {},
   "outputs": [
    {
     "name": "stdout",
     "output_type": "stream",
     "text": [
      "[[3 7 8]]\n"
     ]
    }
   ],
   "source": [
    "#intakes rows to include column c = b[:1, :2]\n",
    "c = b[:1]\n",
    "print(c)"
   ]
  },
  {
   "cell_type": "code",
   "execution_count": 11,
   "id": "c14e7c0a-0597-4e4b-868e-f13aa4b78c2f",
   "metadata": {},
   "outputs": [
    {
     "name": "stdout",
     "output_type": "stream",
     "text": [
      "[[ 3  7]\n",
      " [10  4]]\n"
     ]
    }
   ],
   "source": [
    "c = b[:, :2]\n",
    "print(c)"
   ]
  },
  {
   "cell_type": "code",
   "execution_count": 13,
   "id": "64a9eeec-36ec-418a-a479-463365b6315d",
   "metadata": {},
   "outputs": [
    {
     "name": "stdout",
     "output_type": "stream",
     "text": [
      "[[ 3 14]\n",
      " [30 16]]\n"
     ]
    }
   ],
   "source": [
    "d = c * a\n",
    "print(d)"
   ]
  },
  {
   "cell_type": "code",
   "execution_count": 14,
   "id": "63db72ef-2ced-4bda-a086-de413c8a77d4",
   "metadata": {},
   "outputs": [
    {
     "name": "stdout",
     "output_type": "stream",
     "text": [
      "[[24 34]\n",
      " [22 36]]\n"
     ]
    }
   ],
   "source": [
    "# @ for matrix multiplication\n",
    "d = c @ a\n",
    "print(d)"
   ]
  },
  {
   "cell_type": "code",
   "execution_count": 16,
   "id": "d7aca06c-d633-4843-80b6-4a5aff1bc540",
   "metadata": {},
   "outputs": [
    {
     "name": "stdout",
     "output_type": "stream",
     "text": [
      "[[1. 0. 0.]\n",
      " [0. 1. 0.]\n",
      " [0. 0. 1.]]\n"
     ]
    }
   ],
   "source": [
    "# .identity is identity matrix\n",
    "d = np.identity(3)\n",
    "print(d)"
   ]
  },
  {
   "cell_type": "markdown",
   "id": "c478b0e1-075e-4104-8aac-77f7c1a3d9ba",
   "metadata": {},
   "source": [
    "<h2>Array Creation</h2>"
   ]
  },
  {
   "cell_type": "raw",
   "id": "7b49bebe-cc14-4f9b-b2be-b9107bf6e72b",
   "metadata": {},
   "source": [
    "    np.array(data): Create an array from a list or iterable.\n",
    "    np.zeros(shape): Create an array of zeros with the given shape.\n",
    "    np.ones(shape): Create an array of ones.\n",
    "    np.full(shape, value): Create an array filled with a specific value.\n",
    "    np.eye(n): Create an identity matrix.\n",
    "    np.arange(start, stop, step): Create an array with evenly spaced values within a range.\n",
    "    np.linspace(start, stop, num): Create an array with evenly spaced values between two points.\n",
    "    np.random.rand(shape): Generate random numbers from a uniform distribution.\n",
    "    np.random.randn(shape): Generate random numbers from a normal distribution.\n",
    "    np.random.randint(low, high, size): Generate random integers."
   ]
  },
  {
   "cell_type": "markdown",
   "id": "6f07b58e-c707-433c-9f0c-4353fea0904c",
   "metadata": {},
   "source": [
    "<h2> Array Information</h2>"
   ]
  },
  {
   "cell_type": "raw",
   "id": "bfeee739-8492-4672-9c7e-06d3ab7d429b",
   "metadata": {},
   "source": [
    "    array.shape: Get the shape of the array (rows, columns).\n",
    "    array.ndim: Get the number of dimensions.\n",
    "    array.size: Get the total number of elements.\n",
    "    array.dtype: Get the data type of the elements.\n",
    "    array.astype(dtype): Convert the array to a different data type."
   ]
  },
  {
   "cell_type": "markdown",
   "id": "411bc623-46c3-4730-9cee-4426e79c3ff8",
   "metadata": {},
   "source": [
    "<h2>Array Manipulation</h2>"
   ]
  },
  {
   "cell_type": "raw",
   "id": "aa957c02-48ca-4aeb-8792-eb29d98fe0f3",
   "metadata": {},
   "source": [
    "    np.reshape(array, shape): Reshape an array without changing its data.\n",
    "    np.ravel(array): Flatten the array to 1D.\n",
    "    np.transpose(array): Transpose the array (swap rows and columns).\n",
    "    np.concatenate((a, b), axis): Concatenate two arrays along a given axis.\n",
    "    np.hstack((a, b)): Horizontally stack arrays.\n",
    "    np.vstack((a, b)): Vertically stack arrays.\n",
    "    np.split(array, indices_or_sections): Split an array into multiple subarrays."
   ]
  },
  {
   "cell_type": "markdown",
   "id": "63feb018-969f-4eee-9f74-120371daab90",
   "metadata": {},
   "source": [
    "<h2>Indexing and Slicing</h2>"
   ]
  },
  {
   "cell_type": "raw",
   "id": "25b38c0a-2417-46a2-bfa7-fa77ae924949",
   "metadata": {},
   "source": [
    "    array[index]: Access elements of the array.\n",
    "    array[start:stop:step]: Slice the array.\n",
    "    np.where(condition): Find indices where a condition is true.\n",
    "    np.take(array, indices): Extract specific elements by indices."
   ]
  },
  {
   "cell_type": "markdown",
   "id": "a7ecffb7-c7b8-4df6-9363-11152aaabd17",
   "metadata": {},
   "source": [
    "<h2>Statistical functions</h2>"
   ]
  },
  {
   "cell_type": "raw",
   "id": "bde4ab2d-1354-403a-979a-9e8c684377c8",
   "metadata": {},
   "source": [
    "    np.mean(array)#Calculate the mean.\n",
    "    np.median(array) #Calculate the median.\n",
    "    np.std(array) #Calculate the standard deviation.\n",
    "    np.var(array)# Calculate the variance.\n",
    "    np.min(array)#Find the minimum value.\n",
    "    np.max(array) #Find the maximum value.\n",
    "    np.sum(array)# Calculate the sum of elements.\n",
    "    np.prod(array)# Calculate the product of elements."
   ]
  },
  {
   "cell_type": "markdown",
   "id": "92f915e6-150e-44b9-8fbc-f6a65f8f63e6",
   "metadata": {},
   "source": [
    "<h2>Logical Operations</h2>"
   ]
  },
  {
   "cell_type": "raw",
   "id": "70a007e4-c368-4e62-b8d2-26dbd6ba05d3",
   "metadata": {},
   "source": [
    "    np.all(condition): Check if all elements satisfy a condition.\n",
    "    np.any(condition): Check if any elements satisfy a condition.\n",
    "    np.logical_and(a, b): Element-wise logical AND.\n",
    "    np.logical_or(a, b): Element-wise logical OR"
   ]
  },
  {
   "cell_type": "markdown",
   "id": "f276a04b-f25f-465b-bfa4-3827e0b5a941",
   "metadata": {},
   "source": [
    "<h2> Linear Algebra</h2>"
   ]
  },
  {
   "cell_type": "raw",
   "id": "bf57b987-11d2-4245-bbf7-436e74ab924f",
   "metadata": {},
   "source": [
    "    np.dot(a, b): Dot product.\n",
    "    np.matmul(a, b): Matrix product.\n",
    "    np.linalg.inv(matrix): Calculate the inverse of a matrix.\n",
    "    np.linalg.det(matrix): Calculate the determinant of a matrix.\n",
    "    np.linalg.eig(matrix): Compute eigenvalues and eigenvectors."
   ]
  }
 ],
 "metadata": {
  "kernelspec": {
   "display_name": "Python 3 (ipykernel)",
   "language": "python",
   "name": "python3"
  },
  "language_info": {
   "codemirror_mode": {
    "name": "ipython",
    "version": 3
   },
   "file_extension": ".py",
   "mimetype": "text/x-python",
   "name": "python",
   "nbconvert_exporter": "python",
   "pygments_lexer": "ipython3",
   "version": "3.13.1"
  }
 },
 "nbformat": 4,
 "nbformat_minor": 5
}
