{
 "cells": [
  {
   "cell_type": "markdown",
   "id": "d6ee3808-647d-4fcd-9f02-1cb8237e2625",
   "metadata": {},
   "source": [
    "<h2>Loading and Saving Data</h2>\n",
    "<p>The base of any analysis is read and write data:</p>\n",
    "The following are the functions"
   ]
  },
  {
   "cell_type": "code",
   "execution_count": null,
   "id": "d20a56de-75a3-40ef-bc63-7d69d7e9345f",
   "metadata": {},
   "outputs": [],
   "source": [
    "pd.read_csv(): Import the data from a CSV file.\n",
    "pd.to_csv(): save the data to a CSV file.\n",
    "pd.read_excel / pd.to_excel: works with Excel files.\n",
    "pd.read_sql(): access data by SQL databases."
   ]
  },
  {
   "cell_type": "markdown",
   "id": "d611955a-0039-4d14-b73b-a7b9280e4e20",
   "metadata": {},
   "source": [
    "<h2>Exploring the Data</h2>\n",
    "You need quickly understand your dataset:"
   ]
  },
  {
   "cell_type": "code",
   "execution_count": null,
   "id": "6bc169a1-a33b-4916-be36-21634b34832d",
   "metadata": {},
   "outputs": [],
   "source": [
    "df.head(): view the first rows\n",
    "df.tail: view the last rows\n",
    "df.info(): get information about the dataset, including info about its data types as well as non-null counts.\n",
    "df.describe(): Summary statistics of numeric columns."
   ]
  },
  {
   "cell_type": "markdown",
   "id": "7574a2dc-76e2-433a-93f2-ff3083c97af4",
   "metadata": {},
   "source": [
    "<h2>Accessing Data</h2>"
   ]
  },
  {
   "cell_type": "code",
   "execution_count": null,
   "id": "ec8526c2-382a-4938-a34a-aea726d92735",
   "metadata": {},
   "outputs": [],
   "source": [
    "df['column_name']: Accessing one column.\n",
    "df [['col1', 'col2']]: Accessing more than one column.\n",
    ".loc[]: Accessing rows or columns by labels.\n",
    "iloc[]: Accessing rows or columns by index position."
   ]
  },
  {
   "cell_type": "markdown",
   "id": "07e389ae-7681-408e-b288-6b5cf2b264a7",
   "metadata": {},
   "source": [
    "<h2>Dealing with Missing Data</h2>\n",
    "Missing data is the most common problem :"
   ]
  },
  {
   "cell_type": "code",
   "execution_count": null,
   "id": "39c1eb42-5b58-4dac-b902-2e7b6e0d1ebe",
   "metadata": {},
   "outputs": [],
   "source": [
    "df.isnull(): Access missing values\n",
    "df.fillna(value): Replaces missing values using a value\n",
    "df.dropna(): Deletes rows/columns containing missing values"
   ]
  },
  {
   "cell_type": "markdown",
   "id": "80d31633-f961-46af-8216-676c30535717",
   "metadata": {},
   "source": [
    "<h2>Filtering and Sorting</h2>\n",
    "Filtering rows in one line of code becomes pretty easy:"
   ]
  },
  {
   "cell_type": "code",
   "execution_count": null,
   "id": "4143dff0-d7ea-405e-b646-ebcfe2f11b8f",
   "metadata": {},
   "outputs": [],
   "source": [
    "df [df ['column'] > value]: Filter rows to condition\n",
    "df.sort_values (by='column'): Order rows by column."
   ]
  },
  {
   "cell_type": "markdown",
   "id": "276e6d23-70ec-4f8b-afbf-f41eb90993b7",
   "metadata": {},
   "source": [
    "<h2>Grouping and Aggregation</h2>\n",
    "Summarize data"
   ]
  },
  {
   "cell_type": "code",
   "execution_count": null,
   "id": "f02a6acb-8f1a-49bb-b3ec-01e2c622ba51",
   "metadata": {},
   "outputs": [],
   "source": [
    "df.groupby('column').mean(): Group by a column and compute mean.\n",
    "df.agg({'col1': 'sum', 'col2': 'mean'}): Aggregate on multiple columns."
   ]
  },
  {
   "cell_type": "markdown",
   "id": "2110295c-5a28-4d54-9a71-51dd32ab98e3",
   "metadata": {},
   "source": [
    "<h2>Merging and Joining</h2>\n",
    "Merging of datasets"
   ]
  },
  {
   "cell_type": "code",
   "execution_count": null,
   "id": "e511b574-a6b7-461c-9d27-93f8a0cd79f9",
   "metadata": {},
   "outputs": [],
   "source": [
    "pd.merge(df1, df2, on='key'): Merge two DataFrames based on a key column.\n",
    "pd.concat([df1, df2]): Concatenate DataFrames row-wise or column-wise."
   ]
  },
  {
   "cell_type": "markdown",
   "id": "7faf43be-8b31-4fea-845a-5a991686798b",
   "metadata": {},
   "source": [
    "<h2>Reshaping Data</h2>"
   ]
  },
  {
   "cell_type": "code",
   "execution_count": null,
   "id": "f6bd37ec-e507-4db6-aaa3-4bf76ae63e41",
   "metadata": {},
   "outputs": [],
   "source": [
    "df.pivot(): Transmogrify the shape of data, reshape columns and rows.\n",
    "df.melt(): Transform wide data into long data."
   ]
  },
  {
   "cell_type": "markdown",
   "id": "1e456f5a-c0db-42fe-82a8-6688fb7fc233",
   "metadata": {},
   "source": [
    "<h2>Data Transformation</h2>"
   ]
  },
  {
   "cell_type": "code",
   "execution_count": null,
   "id": "96d5df1b-c3bd-4c16-8fb5-94ac72bb55a9",
   "metadata": {},
   "outputs": [],
   "source": [
    "df['new_col'] = df['col1'] + df['col2']: Add new columns\n",
    "df.apply(func, axis=1): Custom function to rows or columns."
   ]
  },
  {
   "cell_type": "markdown",
   "id": "e28cd8a8-186c-49c8-a579-82e085d8fbad",
   "metadata": {},
   "source": [
    "<h2>Date Operations</h2>"
   ]
  },
  {
   "cell_type": "code",
   "execution_count": null,
   "id": "366690f8-4430-48e0-a8de-2fba55a12fd2",
   "metadata": {
    "editable": true,
    "slideshow": {
     "slide_type": ""
    },
    "tags": []
   },
   "outputs": [],
   "source": [
    "pd.to_datetime(df['date_col']) : Converts strings to datetime objects.\n",
    "df['date_col'].dt.year : Fetches year from a column of datetime"
   ]
  }
 ],
 "metadata": {
  "kernelspec": {
   "display_name": "Python 3 (ipykernel)",
   "language": "python",
   "name": "python3"
  },
  "language_info": {
   "codemirror_mode": {
    "name": "ipython",
    "version": 3
   },
   "file_extension": ".py",
   "mimetype": "text/x-python",
   "name": "python",
   "nbconvert_exporter": "python",
   "pygments_lexer": "ipython3",
   "version": "3.13.1"
  }
 },
 "nbformat": 4,
 "nbformat_minor": 5
}
